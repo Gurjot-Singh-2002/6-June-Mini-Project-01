{
  "nbformat": 4,
  "nbformat_minor": 0,
  "metadata": {
    "colab": {
      "provenance": [],
      "authorship_tag": "ABX9TyPpj+gtt9m1ZSO1sAnZmMGP",
      "include_colab_link": true
    },
    "kernelspec": {
      "name": "python3",
      "display_name": "Python 3"
    },
    "language_info": {
      "name": "python"
    }
  },
  "cells": [
    {
      "cell_type": "markdown",
      "metadata": {
        "id": "view-in-github",
        "colab_type": "text"
      },
      "source": [
        "<a href=\"https://colab.research.google.com/github/Gurjot-Singh-2002/6-June-Mini-Project-01/blob/main/6_June_Mini_Project_01.ipynb\" target=\"_parent\"><img src=\"https://colab.research.google.com/assets/colab-badge.svg\" alt=\"Open In Colab\"/></a>"
      ]
    },
    {
      "cell_type": "markdown",
      "source": [
        "**Subset Selection Problem**"
      ],
      "metadata": {
        "id": "OjWSGM9SJ0gG"
      }
    },
    {
      "cell_type": "markdown",
      "source": [
        "1. Problem Statement:\n",
        "Find all the subsets from a set of numbers whose sum is zero.\n",
        "\n",
        "Constraint: Subset size must be 5\n",
        "Set={-12, -3, -6, 7, 2, -2, 6, 3, 9, -7, -5, -8, 1, 11, -9, -4}"
      ],
      "metadata": {
        "id": "P17xHm28JofE"
      }
    },
    {
      "cell_type": "code",
      "source": [
        "#-------------------------------------------------------------\n",
        "# Step 1: Library inclusion                             \n",
        "#-------------------------------------------------------------\n",
        "import random as r\n",
        "\n",
        "\n",
        "#-------------------------------------------------------------\n",
        "# Step 2: Parameter Setting\n",
        "#-------------------------------------------------------------\n",
        "Set         = set([-12, -3, -6, 7, 2, -2, 6, 3, 9, -7, -5, -8, 1, 11, -9, -4])\n",
        "SetSize     = 5\n",
        "ResultList  = set()    # Store Result List i.e. list of sets whose sum is zero\n",
        "Iterations  = 1000   # Number of Inerations\n",
        "\n",
        "\n",
        "#-------------------------------------------------------------\n",
        "# Step3: Start Program\n",
        "#-------------------------------------------------------------\n",
        "\n",
        "# Loop till number of Iterations\n",
        "for i in range(Iterations):\n",
        "    # Select number of elements from Set\n",
        "    Chromosome = r.sample(Set,SetSize)\n",
        "    Chromosome.sort()\n",
        "\n",
        "    # Sum the number of elements in the Chromosome\n",
        "    if sum(Chromosome) == 0:\n",
        "        ResultList.add(tuple(Chromosome))\n",
        "\n",
        "# Print all the sets whose sum is zero\n",
        "for r in ResultList:\n",
        "\tprint (r)\n",
        "\n",
        "# Print total sets\n",
        "print (\"\\nTotal Sets: \", len(ResultList))"
      ],
      "metadata": {
        "colab": {
          "base_uri": "https://localhost:8080/"
        },
        "id": "QEi6hhsYHvi6",
        "outputId": "837f595a-a86e-4573-e7dc-b975a9e0bd19"
      },
      "execution_count": 4,
      "outputs": [
        {
          "output_type": "stream",
          "name": "stdout",
          "text": [
            "(-12, -6, 2, 7, 9)\n",
            "(-7, -4, -2, 6, 7)\n",
            "(-8, -4, -3, 6, 9)\n",
            "(-8, -5, -4, 6, 11)\n",
            "(-9, -2, 1, 3, 7)\n",
            "(-6, -4, 1, 3, 6)\n",
            "(-7, -6, 1, 3, 9)\n",
            "(-12, -3, 1, 3, 11)\n",
            "(-7, -3, 1, 2, 7)\n",
            "(-8, -5, -2, 6, 9)\n",
            "(-9, -7, 3, 6, 7)\n",
            "(-12, -7, 3, 7, 9)\n",
            "(-8, -2, 1, 2, 7)\n",
            "(-8, -3, -2, 2, 11)\n",
            "(-7, -6, -3, 7, 9)\n",
            "(-9, -7, 1, 6, 9)\n",
            "(-12, -4, 3, 6, 7)\n",
            "(-9, -6, 2, 6, 7)\n",
            "(-12, -7, 1, 7, 11)\n",
            "(-9, -3, -2, 3, 11)\n",
            "(-8, -6, 2, 3, 9)\n",
            "\n",
            "Total Sets:  21\n"
          ]
        },
        {
          "output_type": "stream",
          "name": "stderr",
          "text": [
            "<ipython-input-4-91cb451df7bd>:23: DeprecationWarning: Sampling from a set deprecated\n",
            "since Python 3.9 and will be removed in a subsequent version.\n",
            "  Chromosome = r.sample(Set,SetSize)\n"
          ]
        }
      ]
    },
    {
      "cell_type": "markdown",
      "source": [
        "2. Problem Statement:\n",
        "Find all the subsets from a set of numbers whose sum is zero.\n",
        "\n",
        "Constraint: Subset size must be 3 to 6 only\n",
        "Set={-12, -3, -6, 7, 2, -2, 6, 3, 9, -7, -5, -8, 1, 11, -9, -4}"
      ],
      "metadata": {
        "id": "1xxI979JJmqW"
      }
    },
    {
      "cell_type": "code",
      "source": [
        "#-------------------------------------------------------------\n",
        "# Step 1: Library inclusion                             \n",
        "#-------------------------------------------------------------\n",
        "import random as r\n",
        "\n",
        "\n",
        "#-------------------------------------------------------------\n",
        "# Step 2: Parameter Setting\n",
        "#-------------------------------------------------------------\n",
        "Set         = set([-12, -3, -6, 7, 2, -2, 6, 3, 9, -7, -5, -8, 1, 11, -9, -4])\n",
        "SetLB       = 3\n",
        "SetUB       = 6\n",
        "ResultList  = set()    # Store Result List i.e. list of sets whose sum is zero\n",
        "Iterations  = 1000   # Number of Inerations\n",
        "\n",
        "\n",
        "#-------------------------------------------------------------\n",
        "# Step3: Start Program\n",
        "#-------------------------------------------------------------\n",
        "\n",
        "# Loop till number of Iterations\n",
        "for i in range(Iterations):\n",
        "    # Select set size randomly\n",
        "    SetSize = r.randint(SetLB,SetUB)\n",
        "\t\n",
        "    # Select number of elements from Set\n",
        "    Chromosome = r.sample(Set,SetSize)\n",
        "    Chromosome.sort()\n",
        "\n",
        "    # Sum the number of elements in the Chromosome\n",
        "    if sum(Chromosome) == 0:\n",
        "        ResultList.add(tuple(Chromosome))\n",
        "\n",
        "# Print all the sets whose sum is zero\n",
        "for r in ResultList:\n",
        "\tprint (r)\n",
        "\n",
        "# Print total sets\n",
        "print (\"\\nTotal Sets: \", len(ResultList))\n"
      ],
      "metadata": {
        "colab": {
          "base_uri": "https://localhost:8080/"
        },
        "id": "kFika_u-KFwv",
        "outputId": "4a679e72-4678-4829-e802-ee7410a0586b"
      },
      "execution_count": 6,
      "outputs": [
        {
          "output_type": "stream",
          "name": "stdout",
          "text": [
            "(-12, -6, 3, 6, 9)\n",
            "(-7, -4, -3, 3, 11)\n",
            "(-12, 1, 2, 9)\n",
            "(-12, 3, 9)\n",
            "(-9, -7, -4, 9, 11)\n",
            "(-9, -2, 2, 3, 6)\n",
            "(-7, -3, 1, 9)\n",
            "(-12, -2, 3, 11)\n",
            "(-4, 1, 3)\n",
            "(-5, -3, 1, 7)\n",
            "(-7, -2, 9)\n",
            "(-12, -4, 7, 9)\n",
            "(-5, -3, -2, 3, 7)\n",
            "(-6, -3, 1, 2, 6)\n",
            "(-6, -3, 9)\n",
            "(-9, -3, -2, 2, 3, 9)\n",
            "(-5, -2, 7)\n",
            "(-12, -4, -3, 1, 7, 11)\n",
            "(-8, -7, -5, 9, 11)\n",
            "(-9, -7, -3, 3, 7, 9)\n",
            "(-7, -6, -3, 7, 9)\n",
            "(-8, -4, 3, 9)\n",
            "(-6, -3, 2, 7)\n",
            "(-7, -5, -4, 7, 9)\n",
            "(-4, -3, 1, 6)\n",
            "(-7, -3, 3, 7)\n",
            "(-8, -4, 1, 2, 3, 6)\n",
            "\n",
            "Total Sets:  27\n"
          ]
        },
        {
          "output_type": "stream",
          "name": "stderr",
          "text": [
            "<ipython-input-6-8bdee75e019c>:27: DeprecationWarning: Sampling from a set deprecated\n",
            "since Python 3.9 and will be removed in a subsequent version.\n",
            "  Chromosome = r.sample(Set,SetSize)\n"
          ]
        }
      ]
    }
  ]
}